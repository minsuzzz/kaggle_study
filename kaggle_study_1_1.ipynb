{
  "nbformat": 4,
  "nbformat_minor": 0,
  "metadata": {
    "colab": {
      "name": "kaggle_study_1_1",
      "provenance": [],
      "collapsed_sections": [],
      "authorship_tag": "ABX9TyOQas0LOq9VEynhzQr0Jrma",
      "include_colab_link": true
    },
    "kernelspec": {
      "name": "python3",
      "display_name": "Python 3"
    },
    "language_info": {
      "name": "python"
    }
  },
  "cells": [
    {
      "cell_type": "markdown",
      "metadata": {
        "id": "view-in-github",
        "colab_type": "text"
      },
      "source": [
        "<a href=\"https://colab.research.google.com/github/minsuzzz/kaggle_study/blob/main/kaggle_study_1_1.ipynb\" target=\"_parent\"><img src=\"https://colab.research.google.com/assets/colab-badge.svg\" alt=\"Open In Colab\"/></a>"
      ]
    },
    {
      "cell_type": "markdown",
      "metadata": {
        "id": "2c430p7_r3H3"
      },
      "source": [
        "# 1st level. Titanic: Machince Learning from Disaster"
      ]
    },
    {
      "cell_type": "markdown",
      "metadata": {
        "id": "OFJpyrfksUyb"
      },
      "source": [
        "### 타이타닉 튜토리얼-1 Exploratory data analysis, visualizaation, machine learnig"
      ]
    },
    {
      "cell_type": "markdown",
      "metadata": {
        "id": "ZMkF7fggtJA_"
      },
      "source": [
        "Contents"
      ]
    },
    {
      "cell_type": "markdown",
      "metadata": {
        "id": "s6buqfz2tJa-"
      },
      "source": [
        "  * 1. 데이터셋 확인\n",
        "    * 1.1 Null data check\n",
        "    * 1.2 Target label 확인\n",
        "  * 2. Exploratory data analysis\n",
        "    * 2.1 Pclass\n",
        "    * 2.2 Sex\n",
        "    * 2.3 Both Sex and Pclass\n",
        "    * 2.4 Age\n",
        "    * 2.5 Pclass, Sex, Age\n",
        "    * 2.6 Embarked\n",
        "    * 2.7 Family - SibSip(형제자매) + Parch(부모, 자녀)\n",
        "    * 2.8 Cabin\n"
      ]
    },
    {
      "cell_type": "markdown",
      "metadata": {
        "id": "ZgwXkJYiuFwS"
      },
      "source": [
        "* 만약 데이터 사이언스, 머신러닝 또는 캐글에서 어떤 것을 해야하는지 잘 모르는 newbie라면, 타이타닉을 하시는 게 가장 좋은 선택입니다.\n",
        "\n",
        "* 타이타닉은 아시다시피, 사상 최대 해난사고로써, 1,500여명의 희생자가 생겼습니다.\n",
        "\n",
        "* 우리는 이 튜토리얼에서 타이타닉에 탑승한 사람들의 신상정보를 활용하여, 승선한 사람들의 생존여부를 예측하는 모델을 생성할 것입니다.\n",
        "\n",
        "* 본 튜토리얼에서는 여러 시각화 도구들(matplotlib, seaborn, plotly), 데이터 분석 도구(pandas, numpy), 머신 러닝 도구(sklearn)을 사용할 것입니다.\n",
        "\n",
        "* 본 튜토리얼은 캐글에 있는 여러 커널들을 참조하여 만들었습니다. 본 튜토리얼을 공부하신 뒤에, 캐글 타이타닉 컴퍼티션에 존재하는 여러 다른 커널들을 더 공부하시면 됩니다.\n",
        "\n",
        "* 본 튜터리얼은 파이썬 문법에 어려움이 없으셔야 수월할 것입니다. 여기서 사용하는 라이브러리들을 써본 경험이 있으면 좋겠지만, 경험이 없다하더라도 한 줄씩 천천히 적어나가시면 충분히 하실 수 있습니다.\n"
      ]
    },
    {
      "cell_type": "code",
      "metadata": {
        "id": "LvWRIxvUu8Jp"
      },
      "source": [
        "import numpy as np"
      ],
      "execution_count": null,
      "outputs": []
    }
  ]
}